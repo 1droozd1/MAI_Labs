{
  "cells": [
    {
      "cell_type": "markdown",
      "metadata": {},
      "source": [
        "# Вариант 5"
      ]
    },
    {
      "cell_type": "code",
      "execution_count": null,
      "metadata": {
        "colab": {
          "base_uri": "https://localhost:8080/"
        },
        "id": "DEmE5b4i4cw0",
        "outputId": "9c6890d0-8b3c-4109-eb6f-22b77379986e"
      },
      "outputs": [
        {
          "name": "stdout",
          "output_type": "stream",
          "text": [
            "Overwriting roberts.cu\n"
          ]
        }
      ],
      "source": [
        "%%writefile roberts.cu\n",
        "#include <stdio.h>\n",
        "#include <stdlib.h>\n",
        "#include <math.h>\n",
        "#include <cuda_runtime.h>\n",
        "\n",
        "#define CSC(call)                                    \\\n",
        "do {                                          \\\n",
        "    cudaError_t res = call;                              \\\n",
        "    if (res != cudaSuccess) {                          \\\n",
        "        fprintf(stderr, \"ERROR in %s:%d. Message: %s\\n\",      \\\n",
        "                __FILE__, __LINE__, cudaGetErrorString(res));    \\\n",
        "        exit(0);                                    \\\n",
        "    }                                            \\\n",
        "} while(0)\n",
        "\n",
        "// Локальная функция для вычисления яркости\n",
        "__device__ double luminance(uchar4 p) {\n",
        "    double red = p.x;\n",
        "    double green = p.y;\n",
        "    double blue = p.z;\n",
        "    return (0.299 * red + 0.587 * green + 0.114 * blue);\n",
        "}\n",
        "\n",
        "__global__ void kernel(cudaTextureObject_t tex, uchar4 *out, int w, int h) {\n",
        "    int idx = blockDim.x * blockIdx.x + threadIdx.x;\n",
        "    int idy = blockDim.y * blockIdx.y + threadIdx.y;\n",
        "    int offsetx = blockDim.x * gridDim.x;\n",
        "    int offsety = blockDim.y * gridDim.y;\n",
        "\n",
        "    uchar4 w11, w12, w21, w22;\n",
        "    double Gx, Gy, gradientLength;\n",
        "\n",
        "    for (int y = idy; y < h; y += offsety) {\n",
        "        for (int x = idx; x < w; x += offsetx) {\n",
        "            // Получаем значения пикселей\n",
        "            w11 = tex2D<uchar4>(tex, x, y);\n",
        "            w12 = tex2D<uchar4>(tex, (x + 1), y);\n",
        "            w21 = tex2D<uchar4>(tex, x, (y + 1));\n",
        "            w22 = tex2D<uchar4>(tex, (x + 1), (y + 1));\n",
        "\n",
        "            // Вычисляем градиенты по методу Робертса\n",
        "            Gx = luminance(w22) - luminance(w11);\n",
        "            Gy = luminance(w21) - luminance(w12);\n",
        "\n",
        "            // Вычисляем длину градиента\n",
        "            gradientLength = sqrt(Gx * Gx + Gy * Gy);\n",
        "            float answer = min(255.0f, (float)round(gradientLength));\n",
        "\n",
        "            // Сохраняем результат в выходной массив\n",
        "            out[y * w + x] = make_uchar4(answer, answer, answer, w11.w);\n",
        "        }\n",
        "    }\n",
        "}\n",
        "\n",
        "int main() {\n",
        "    char input_file[100], output_file[100];\n",
        "\n",
        "    // Считываем имена входного и выходного файлов\n",
        "    scanf(\"%s\", input_file);\n",
        "    scanf(\"%s\", output_file);\n",
        "\n",
        "    // Открываем входной файл\n",
        "    FILE *fp = fopen(input_file, \"rb\");\n",
        "    if (fp == NULL) {\n",
        "        fprintf(stderr, \"Ошибка открытия файла %s\\n\", input_file);\n",
        "        return -1;\n",
        "    }\n",
        "\n",
        "    // Считываем ширину и высоту изображения\n",
        "    int w, h;\n",
        "    fread(&w, sizeof(int), 1, fp);\n",
        "    fread(&h, sizeof(int), 1, fp);\n",
        "\n",
        "    // Считываем пиксели\n",
        "    uchar4 *data = (uchar4 *)malloc(sizeof(uchar4) * w * h);\n",
        "    fread(data, sizeof(uchar4), w * h, fp);\n",
        "    fclose(fp);\n",
        "\n",
        "    // Выделяем память на устройстве для текстуры\n",
        "    cudaArray *arr;\n",
        "    cudaChannelFormatDesc ch = cudaCreateChannelDesc<uchar4>();\n",
        "    CSC(cudaMallocArray(&arr, &ch, w, h));\n",
        "\n",
        "    // Копируем данные в текстуру\n",
        "    CSC(cudaMemcpy2DToArray(arr, 0, 0, data, w * sizeof(uchar4), w * sizeof(uchar4), h, cudaMemcpyHostToDevice));\n",
        "\n",
        "    // Настройка текстурного объекта\n",
        "    struct cudaResourceDesc resDesc;\n",
        "    memset(&resDesc, 0, sizeof(resDesc));\n",
        "    resDesc.resType = cudaResourceTypeArray;\n",
        "    resDesc.res.array.array = arr;\n",
        "\n",
        "    struct cudaTextureDesc texDesc;\n",
        "    memset(&texDesc, 0, sizeof(texDesc));\n",
        "    texDesc.addressMode[0] = cudaAddressModeClamp;\n",
        "    texDesc.addressMode[1] = cudaAddressModeClamp;\n",
        "    texDesc.filterMode = cudaFilterModePoint;\n",
        "    texDesc.readMode = cudaReadModeElementType;\n",
        "    texDesc.normalizedCoords = false;\n",
        "\n",
        "    cudaTextureObject_t tex = 0;\n",
        "    CSC(cudaCreateTextureObject(&tex, &resDesc, &texDesc, NULL));\n",
        "\n",
        "    // Выделяем память для выходных данных на устройстве\n",
        "    uchar4 *dev_out;\n",
        "    CSC(cudaMalloc(&dev_out, sizeof(uchar4) * w * h));\n",
        "\n",
        "    // Запускаем ядро Робертса\n",
        "    dim3 threadsPerBlock(16, 16);\n",
        "    dim3 numBlocks((w + threadsPerBlock.x - 1) / threadsPerBlock.x,\n",
        "                   (h + threadsPerBlock.y - 1) / threadsPerBlock.y);\n",
        "    kernel<<<numBlocks, threadsPerBlock>>>(tex, dev_out, w, h);\n",
        "    CSC(cudaGetLastError());\n",
        "\n",
        "    // Копируем результат обратно на хост\n",
        "    CSC(cudaMemcpy(data, dev_out, sizeof(uchar4) * w * h, cudaMemcpyDeviceToHost));\n",
        "\n",
        "    // Освобождаем текстурный объект и память на устройстве\n",
        "    CSC(cudaDestroyTextureObject(tex));\n",
        "    CSC(cudaFreeArray(arr));\n",
        "    CSC(cudaFree(dev_out));\n",
        "\n",
        "    // Открываем выходной файл\n",
        "    fp = fopen(output_file, \"wb\");\n",
        "    if (fp == NULL) {\n",
        "        fprintf(stderr, \"Ошибка открытия файла %s\\n\", output_file);\n",
        "        free(data);\n",
        "        return -1;\n",
        "    }\n",
        "\n",
        "    // Записываем размеры и данные в выходной файл\n",
        "    fwrite(&w, sizeof(int), 1, fp);\n",
        "    fwrite(&h, sizeof(int), 1, fp);\n",
        "    fwrite(data, sizeof(uchar4), w * h, fp);\n",
        "    fclose(fp);\n",
        "\n",
        "    // Освобождаем память\n",
        "    free(data);\n",
        "    return 0;\n",
        "}"
      ]
    },
    {
      "cell_type": "code",
      "execution_count": null,
      "metadata": {
        "id": "p2U9lGkd4zr6"
      },
      "outputs": [],
      "source": [
        "!nvcc -o roberts roberts.cu"
      ]
    },
    {
      "cell_type": "code",
      "execution_count": null,
      "metadata": {
        "colab": {
          "base_uri": "https://localhost:8080/"
        },
        "id": "bH3CwGIX71J4",
        "outputId": "d753042f-60dd-4f7e-da58-51a485a7c1af"
      },
      "outputs": [
        {
          "name": "stdout",
          "output_type": "stream",
          "text": [
            "in2.data\n",
            "out2.data\n"
          ]
        }
      ],
      "source": [
        "!./roberts"
      ]
    },
    {
      "cell_type": "code",
      "execution_count": null,
      "metadata": {
        "colab": {
          "base_uri": "https://localhost:8080/"
        },
        "id": "k0vqmhEk8tHH",
        "outputId": "220e68cb-5dfe-4d38-e234-ae2b6ebac38b"
      },
      "outputs": [
        {
          "name": "stdout",
          "output_type": "stream",
          "text": [
            "03000000 03000000 80808000 80808000 00000000 80808000 80808000 00000000 00000000 00000000 00000000\n"
          ]
        }
      ],
      "source": [
        "# Открываем бинарный файл и читаем его содержимое\n",
        "with open('out2.data', 'rb') as binary_file:\n",
        "    binary_data = binary_file.read()\n",
        "\n",
        "# Преобразуем бинарные данные в строку hex\n",
        "hex_data = binary_data.hex()\n",
        "\n",
        "# Форматируем строку hex для удобства (например, с пробелами каждые 8 символов)\n",
        "formatted_hex = ' '.join([hex_data[i:i+8] for i in range(0, len(hex_data), 8)])\n",
        "\n",
        "# Выводим полученный результат\n",
        "print(formatted_hex)"
      ]
    }
  ],
  "metadata": {
    "accelerator": "GPU",
    "colab": {
      "gpuType": "T4",
      "provenance": []
    },
    "kernelspec": {
      "display_name": "Python 3",
      "name": "python3"
    },
    "language_info": {
      "name": "python"
    }
  },
  "nbformat": 4,
  "nbformat_minor": 0
}
