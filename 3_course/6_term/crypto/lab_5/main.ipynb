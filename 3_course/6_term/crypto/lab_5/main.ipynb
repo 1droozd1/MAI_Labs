{
 "cells": [
  {
   "cell_type": "code",
   "execution_count": 2,
   "metadata": {},
   "outputs": [
    {
     "name": "stdout",
     "output_type": "stream",
     "text": [
      "Curve Parameters a = 111352645, b = 389460839: Order of Point = 499963969\n"
     ]
    },
    {
     "ename": "KeyboardInterrupt",
     "evalue": "",
     "output_type": "error",
     "traceback": [
      "\u001b[0;31m---------------------------------------------------------------------------\u001b[0m",
      "\u001b[0;31mKeyboardInterrupt\u001b[0m                         Traceback (most recent call last)",
      "Cell \u001b[0;32mIn[2], line 72\u001b[0m\n\u001b[1;32m     70\u001b[0m sample_point \u001b[38;5;241m=\u001b[39m find_curve_point(coef_a, coef_b, prime_modulus)\n\u001b[1;32m     71\u001b[0m start_time \u001b[38;5;241m=\u001b[39m time\u001b[38;5;241m.\u001b[39mtime()\n\u001b[0;32m---> 72\u001b[0m order \u001b[38;5;241m=\u001b[39m \u001b[43mpoint_order\u001b[49m\u001b[43m(\u001b[49m\u001b[43msample_point\u001b[49m\u001b[43m,\u001b[49m\u001b[43m \u001b[49m\u001b[43mcoef_a\u001b[49m\u001b[43m,\u001b[49m\u001b[43m \u001b[49m\u001b[43mcoef_b\u001b[49m\u001b[43m,\u001b[49m\u001b[43m \u001b[49m\u001b[43mprime_modulus\u001b[49m\u001b[43m)\u001b[49m\n\u001b[1;32m     73\u001b[0m end_time \u001b[38;5;241m=\u001b[39m time\u001b[38;5;241m.\u001b[39mtime()\n\u001b[1;32m     74\u001b[0m \u001b[38;5;28mprint\u001b[39m(\u001b[38;5;124mf\u001b[39m\u001b[38;5;124m\"\u001b[39m\u001b[38;5;124mCurve Parameters a = \u001b[39m\u001b[38;5;132;01m{\u001b[39;00mcoef_a\u001b[38;5;132;01m}\u001b[39;00m\u001b[38;5;124m, b = \u001b[39m\u001b[38;5;132;01m{\u001b[39;00mcoef_b\u001b[38;5;132;01m}\u001b[39;00m\u001b[38;5;124m: Order of Point = \u001b[39m\u001b[38;5;132;01m{\u001b[39;00morder\u001b[38;5;132;01m}\u001b[39;00m\u001b[38;5;124m\"\u001b[39m)\n",
      "Cell \u001b[0;32mIn[2], line 39\u001b[0m, in \u001b[0;36mpoint_order\u001b[0;34m(base_point, coef_a, coef_b, prime_modulus)\u001b[0m\n\u001b[1;32m     37\u001b[0m count \u001b[38;5;241m=\u001b[39m \u001b[38;5;241m1\u001b[39m\n\u001b[1;32m     38\u001b[0m \u001b[38;5;28;01mwhile\u001b[39;00m current_point \u001b[38;5;241m!=\u001b[39m (\u001b[38;5;241m0\u001b[39m, \u001b[38;5;241m0\u001b[39m):\n\u001b[0;32m---> 39\u001b[0m     current_point \u001b[38;5;241m=\u001b[39m \u001b[43msum_of_points\u001b[49m\u001b[43m(\u001b[49m\u001b[43mcurrent_point\u001b[49m\u001b[43m,\u001b[49m\u001b[43m \u001b[49m\u001b[43mbase_point\u001b[49m\u001b[43m,\u001b[49m\u001b[43m \u001b[49m\u001b[43mcoef_a\u001b[49m\u001b[43m,\u001b[49m\u001b[43m \u001b[49m\u001b[43mprime_modulus\u001b[49m\u001b[43m)\u001b[49m\n\u001b[1;32m     40\u001b[0m     count \u001b[38;5;241m+\u001b[39m\u001b[38;5;241m=\u001b[39m \u001b[38;5;241m1\u001b[39m\n\u001b[1;32m     41\u001b[0m \u001b[38;5;28;01mreturn\u001b[39;00m count\n",
      "Cell \u001b[0;32mIn[2], line 26\u001b[0m, in \u001b[0;36msum_of_points\u001b[0;34m(point1, point2, coef_a, prime_modulus)\u001b[0m\n\u001b[1;32m     23\u001b[0m     denominator \u001b[38;5;241m=\u001b[39m point2[\u001b[38;5;241m0\u001b[39m] \u001b[38;5;241m-\u001b[39m point1[\u001b[38;5;241m0\u001b[39m]\n\u001b[1;32m     25\u001b[0m \u001b[38;5;28;01mtry\u001b[39;00m:\n\u001b[0;32m---> 26\u001b[0m     slope \u001b[38;5;241m=\u001b[39m numerator \u001b[38;5;241m*\u001b[39m \u001b[38;5;28mpow\u001b[39m(denominator, \u001b[38;5;241m-\u001b[39m\u001b[38;5;241m1\u001b[39m, prime_modulus) \u001b[38;5;241m%\u001b[39m prime_modulus\n\u001b[1;32m     27\u001b[0m \u001b[38;5;28;01mexcept\u001b[39;00m \u001b[38;5;167;01mValueError\u001b[39;00m:\n\u001b[1;32m     28\u001b[0m     \u001b[38;5;28;01mreturn\u001b[39;00m (\u001b[38;5;241m0\u001b[39m, \u001b[38;5;241m0\u001b[39m)\n",
      "\u001b[0;31mKeyboardInterrupt\u001b[0m: "
     ]
    }
   ],
   "source": [
    "import random\n",
    "import time\n",
    "\n",
    "def check_curve_membership(x_coord, y_coord, coef_a, coef_b, prime_modulus):\n",
    "    \"\"\"Validate if a point is on the given elliptic curve.\"\"\"\n",
    "    left_hand_side = (y_coord ** 2) % prime_modulus\n",
    "    right_hand_side = (x_coord ** 3 + coef_a * x_coord + coef_b) % prime_modulus\n",
    "    return left_hand_side == right_hand_side\n",
    "\n",
    "def sum_of_points(point1, point2, coef_a, prime_modulus):\n",
    "    if point1 == (0, 0):\n",
    "        return point2\n",
    "    if point2 == (0, 0):\n",
    "        return point1\n",
    "    if point1[0] == point2[0] and point1[1] == -point2[1]:\n",
    "        return (0, 0)\n",
    "\n",
    "    if point1 == point2:\n",
    "        numerator = 3 * point1[0] ** 2 + coef_a\n",
    "        denominator = 2 * point1[1]\n",
    "    else:\n",
    "        numerator = point2[1] - point1[1]\n",
    "        denominator = point2[0] - point1[0]\n",
    "\n",
    "    try:\n",
    "        slope = numerator * pow(denominator, -1, prime_modulus) % prime_modulus\n",
    "    except ValueError:\n",
    "        return (0, 0)\n",
    "\n",
    "    x_result = (slope ** 2 - point1[0] - point2[0]) % prime_modulus\n",
    "    y_result = (slope * (point1[0] - x_result) - point1[1]) % prime_modulus\n",
    "    return (x_result, y_result)\n",
    "\n",
    "def point_order(base_point, coef_a, coef_b, prime_modulus):\n",
    "    \"\"\"Determine the order of a point on the elliptic curve.\"\"\"\n",
    "    current_point = base_point\n",
    "    count = 1\n",
    "    while current_point != (0, 0):\n",
    "        current_point = sum_of_points(current_point, base_point, coef_a, prime_modulus)\n",
    "        count += 1\n",
    "    return count\n",
    "\n",
    "def curve_params_generation(prime_modulus, curves_count):\n",
    "    \"\"\"Generate non-degenerate curve parameters.\"\"\"\n",
    "    params = []\n",
    "    while len(params) < curves_count:\n",
    "        a = random.randint(1, prime_modulus - 1)\n",
    "        b = random.randint(1, prime_modulus - 1)\n",
    "        discriminant = (-16 * (4 * a ** 3 + 27 * b ** 2)) % prime_modulus\n",
    "        if discriminant != 0:\n",
    "            params.append((a, b))\n",
    "    return params\n",
    "\n",
    "def find_curve_point(coef_a, coef_b, prime_modulus):\n",
    "    \"\"\"Find a point on the curve.\"\"\"\n",
    "    while True:\n",
    "        x_val = random.randint(1, prime_modulus - 1)\n",
    "        y_squared = (x_val ** 3 + coef_a * x_val + coef_b) % prime_modulus\n",
    "        if pow(y_squared, (prime_modulus - 1) // 2, prime_modulus) == 1:\n",
    "            y_val = pow(y_squared, (prime_modulus + 1) // 4, prime_modulus)\n",
    "            return (x_val, y_val)\n",
    "\n",
    "prime_modulus = 500000003\n",
    "sample_point = (1, 1) \n",
    "\n",
    "total_curves = 5\n",
    "curves = curve_params_generation(prime_modulus, total_curves)\n",
    "\n",
    "for coef_a, coef_b in curves:\n",
    "    sample_point = find_curve_point(coef_a, coef_b, prime_modulus)\n",
    "    start_time = time.time()\n",
    "    order = point_order(sample_point, coef_a, coef_b, prime_modulus)\n",
    "    end_time = time.time()\n",
    "    print(f\"Curve Parameters a = {coef_a}, b = {coef_b}: Order of Point = {order}\")"
   ]
  }
 ],
 "metadata": {
  "kernelspec": {
   "display_name": "Python 3",
   "language": "python",
   "name": "python3"
  },
  "language_info": {
   "codemirror_mode": {
    "name": "ipython",
    "version": 3
   },
   "file_extension": ".py",
   "mimetype": "text/x-python",
   "name": "python",
   "nbconvert_exporter": "python",
   "pygments_lexer": "ipython3",
   "version": "3.11.4"
  }
 },
 "nbformat": 4,
 "nbformat_minor": 2
}
