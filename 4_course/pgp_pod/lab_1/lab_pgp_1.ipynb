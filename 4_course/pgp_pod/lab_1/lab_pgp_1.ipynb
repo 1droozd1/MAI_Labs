{
  "cells": [
    {
      "cell_type": "markdown",
      "metadata": {},
      "source": [
        "# Вариант 6"
      ]
    },
    {
      "cell_type": "code",
      "execution_count": null,
      "metadata": {
        "colab": {
          "base_uri": "https://localhost:8080/"
        },
        "id": "PeKtVnJdw21p",
        "outputId": "01b50a64-b43c-4529-8af1-4f4e979efc9a"
      },
      "outputs": [
        {
          "name": "stdout",
          "output_type": "stream",
          "text": [
            "Overwriting vector_square.cu\n"
          ]
        }
      ],
      "source": [
        "%%writefile vector_square.cu\n",
        "#include <stdio.h>\n",
        "\n",
        "#define CSC(call)       \\\n",
        "do {                    \\\n",
        "    cudaError_t status = call;          \\\n",
        "    if  (status != cudaSuccess) {       \\\n",
        "        fprintf(stderr, \"ERROR in %s:%d. Message: %s\\n\", __FILE__, __LINE__, cudaGetErrorString(status));   \\\n",
        "        exit(0);                        \\\n",
        "    }                                   \\\n",
        "} while (0)\n",
        "\n",
        "__global__ void squareKernel(double *arr, int n) {\n",
        "    int idx = blockIdx.x * blockDim.x + threadIdx.x;\n",
        "    int offset = blockDim.x * gridDim.x;\n",
        "    while (idx < n) {\n",
        "        arr[idx] = arr[idx] * arr[idx];\n",
        "        idx += offset;\n",
        "    }\n",
        "}\n",
        "\n",
        "int main() {\n",
        "    int n;\n",
        "\n",
        "    scanf(\"%d\", &n);\n",
        "\n",
        "    double *arr = (double *)malloc(sizeof(double) * n);\n",
        "    for (int i = 0; i < n; i++) {\n",
        "        scanf(\"%lf\", &arr[i]);\n",
        "    }\n",
        "\n",
        "    double *dev_arr;\n",
        "    CSC(cudaMalloc(&dev_arr, sizeof(double) * n));\n",
        "    CSC(cudaMemcpy(dev_arr, arr, sizeof(double) * n, cudaMemcpyHostToDevice));\n",
        "\n",
        "    cudaEvent_t start, stop;\n",
        "    CSC(cudaEventCreate(&start));\n",
        "    CSC(cudaEventCreate(&stop));\n",
        "    CSC(cudaEventRecord(start));\n",
        "\n",
        "    int blockSize = 512;\n",
        "    int numBlocks = (n + blockSize - 1) / blockSize;\n",
        "    squareKernel<<<numBlocks, blockSize>>>(dev_arr, n);\n",
        "\n",
        "    CSC(cudaDeviceSynchronize());\n",
        "    CSC(cudaGetLastError());\n",
        "\n",
        "    CSC(cudaEventRecord(stop));\n",
        "    CSC(cudaEventSynchronize(stop));\n",
        "    float elapsedTime;\n",
        "    CSC(cudaEventElapsedTime(&elapsedTime, start, stop));\n",
        "    CSC(cudaEventDestroy(start));\n",
        "    CSC(cudaEventDestroy(stop));\n",
        "\n",
        "    CSC(cudaMemcpy(arr, dev_arr, sizeof(double) * n, cudaMemcpyDeviceToHost));\n",
        "\n",
        "    for (int i = 0; i < n; i++) {\n",
        "        printf(\"%.10e \", arr[i]);\n",
        "    }\n",
        "    printf(\"\\n\");\n",
        "\n",
        "    free(arr);\n",
        "    CSC(cudaFree(dev_arr));\n",
        "\n",
        "    //printf(\"%f\\n\", elapsedTime);\n",
        "\n",
        "    return 0;\n",
        "}"
      ]
    },
    {
      "cell_type": "code",
      "execution_count": null,
      "metadata": {
        "id": "i_d7Sxo9xZV1"
      },
      "outputs": [],
      "source": [
        "!nvcc -o vector_square vector_square.cu"
      ]
    },
    {
      "cell_type": "code",
      "execution_count": null,
      "metadata": {
        "colab": {
          "base_uri": "https://localhost:8080/"
        },
        "id": "kjuxdr6Fxa8z",
        "outputId": "df48ed73-3e2b-4f76-ef12-cc62f38a2f70"
      },
      "outputs": [
        {
          "name": "stdout",
          "output_type": "stream",
          "text": [
            "3\n",
            "1 5 3\n",
            "1.0000000000e+00 2.5000000000e+01 9.0000000000e+00 \n"
          ]
        }
      ],
      "source": [
        "!./vector_square"
      ]
    }
  ],
  "metadata": {
    "accelerator": "GPU",
    "colab": {
      "gpuType": "T4",
      "provenance": []
    },
    "kernelspec": {
      "display_name": "Python 3",
      "name": "python3"
    },
    "language_info": {
      "name": "python"
    }
  },
  "nbformat": 4,
  "nbformat_minor": 0
}
