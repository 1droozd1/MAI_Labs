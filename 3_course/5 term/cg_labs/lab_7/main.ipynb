{
 "cells": [
  {
   "cell_type": "code",
   "execution_count": 3,
   "metadata": {},
   "outputs": [
    {
     "data": {
      "application/vnd.jupyter.widget-view+json": {
       "model_id": "c0c836399ccd49448d7f23697e4aeb4c",
       "version_major": 2,
       "version_minor": 0
      },
      "text/plain": [
       "HBox(children=(VBox(children=(HBox(children=(FloatSlider(value=0.0, description='P00', max=5.0, min=-5.0), Flo…"
      ]
     },
     "metadata": {},
     "output_type": "display_data"
    },
    {
     "data": {
      "application/vnd.jupyter.widget-view+json": {
       "model_id": "7fe3c49fa649423cbd5c87a7e8a00ea6",
       "version_major": 2,
       "version_minor": 0
      },
      "text/plain": [
       "Output()"
      ]
     },
     "metadata": {},
     "output_type": "display_data"
    }
   ],
   "source": [
    "import numpy as np\n",
    "import matplotlib.pyplot as plt\n",
    "import ipywidgets as widgets\n",
    "from IPython.display import display\n",
    "\n",
    "def basis_function(i, k, t, knot_vector):\n",
    "    \"\"\" Рекурсивно вычисляет значения i-й B-сплайн базисной функции k-го порядка в точке t \"\"\"\n",
    "    if k == 1:\n",
    "        return 1.0 if (knot_vector[i] <= t < knot_vector[i + 1]) or \\\n",
    "                       (t == knot_vector[-1] and knot_vector[i] <= t) else 0.0\n",
    "    else:\n",
    "        term1 = 0.0\n",
    "        if knot_vector[i + k - 1] != knot_vector[i]:\n",
    "            term1 = (t - knot_vector[i]) / (knot_vector[i + k - 1] - knot_vector[i]) * \\\n",
    "                    basis_function(i, k - 1, t, knot_vector)\n",
    "\n",
    "        term2 = 0.0\n",
    "        if knot_vector[i + k] != knot_vector[i + 1]:\n",
    "            term2 = (knot_vector[i + k] - t) / (knot_vector[i + k] - knot_vector[i + 1]) * \\\n",
    "                    basis_function(i + 1, k - 1, t, knot_vector)\n",
    "\n",
    "        return term1 + term2\n",
    "\n",
    "def nurbs_curve(control_points, weights, knot_vector, k, num_points=100):\n",
    "    \"\"\" Вычисляет NURB-кривую по контрольным точкам, весам, узловому вектору и степени \"\"\"\n",
    "    n = len(control_points) - 1\n",
    "    curve = np.zeros((num_points, 2))\n",
    "    t_values = np.linspace(knot_vector[k - 1], knot_vector[n + 1], num_points)\n",
    "\n",
    "    for i in range(num_points):\n",
    "        t = t_values[i]\n",
    "        numerator = np.zeros(2)\n",
    "        denominator = 0.0\n",
    "\n",
    "        for j in range(n + 1):\n",
    "            N_j_k_t = basis_function(j, k, t, knot_vector)\n",
    "            numerator += N_j_k_t * weights[j] * np.array(control_points[j])\n",
    "            denominator += N_j_k_t * weights[j]\n",
    "\n",
    "        curve[i] = numerator / denominator if denominator != 0 else np.zeros(2)\n",
    "\n",
    "    return curve\n",
    "\n",
    "# Начальные контрольные точки и веса\n",
    "control_points = np.array([[0, 0], [1, 2], [2, -1], [3, 3], [4, 0], [5, 2], [6, 1]])\n",
    "weights = np.array([1, 2, 1, 2, 1, 2, 1])\n",
    "\n",
    "# Узловой вектор\n",
    "k = 3\n",
    "knot_vector = np.array([0, 0, 0, 1, 2, 3, 3, 4, 4, 4])\n",
    "\n",
    "# Создание виджетов для контрольных точек и весов\n",
    "points_widgets = [[widgets.FloatSlider(min=-5, max=5, value=point[dim], description=f'P{i}{dim}')\n",
    "                   for dim in range(2)] for i, point in enumerate(control_points)]\n",
    "weights_widgets = [widgets.FloatSlider(min=0.1, max=5, value=w, description=f'W{i}') \n",
    "                   for i, w in enumerate(weights)]\n",
    "\n",
    "# Функция для отображения графика\n",
    "def display_curve(**kwargs):\n",
    "    # Извлечение контрольных точек и весов из kwargs\n",
    "    num_points = len(control_points)\n",
    "    new_control_points = np.array([kwargs[f'point_{i}_{dim}'] for i in range(num_points) for dim in range(2)]).reshape(num_points, 2)\n",
    "    new_weights = np.array([kwargs[f'weight_{i}'] for i in range(num_points)])\n",
    "\n",
    "    # Расчет и отображение NURB-кривой\n",
    "    nurbs = nurbs_curve(new_control_points, new_weights, knot_vector, k)\n",
    "    plt.plot(nurbs[:, 0], nurbs[:, 1], label=\"NURB-кривая\", color='blue')\n",
    "    plt.plot(new_control_points[:, 0], new_control_points[:, 1], 'ro--', label=\"Контрольные точки\")\n",
    "    plt.legend()\n",
    "    plt.grid(True)\n",
    "    plt.show()\n",
    "\n",
    "\n",
    "# Создание layout для группировки виджетов\n",
    "points_flat = [item for sublist in points_widgets for item in sublist]\n",
    "widget_dict = {f'point_{i}_{dim}': widget for i, sublist in enumerate(points_widgets) \n",
    "               for dim, widget in enumerate(sublist)}\n",
    "widget_dict.update({f'weight_{i}': weights_widgets[i] for i in range(len(weights_widgets))})\n",
    "\n",
    "# Создание интерактивного вывода\n",
    "interactive_plot = widgets.interactive_output(display_curve, widget_dict)\n",
    "\n",
    "\n",
    "# Отображение виджетов и интерактивного вывода\n",
    "points_box = widgets.VBox([widgets.HBox(sublist) for sublist in points_widgets])\n",
    "weights_box = widgets.VBox(weights_widgets)\n",
    "controls_box = widgets.HBox([points_box, weights_box])\n",
    "display(controls_box, interactive_plot)\n"
   ]
  }
 ],
 "metadata": {
  "kernelspec": {
   "display_name": "Python 3",
   "language": "python",
   "name": "python3"
  },
  "language_info": {
   "codemirror_mode": {
    "name": "ipython",
    "version": 3
   },
   "file_extension": ".py",
   "mimetype": "text/x-python",
   "name": "python",
   "nbconvert_exporter": "python",
   "pygments_lexer": "ipython3",
   "version": "3.11.4"
  }
 },
 "nbformat": 4,
 "nbformat_minor": 2
}
