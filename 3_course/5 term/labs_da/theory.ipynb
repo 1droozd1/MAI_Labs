{
 "cells": [
  {
   "cell_type": "markdown",
   "metadata": {},
   "source": [
    "# Суффиксное дерево\n",
    "\n",
    "**Суффиксное дерево** — это бор, содержащий все суффиксы заданной строки. В самой простейшей реализации его построение потребует O(n2) времени и памяти — мы просто будем добавлять в бор все суффиксы по одному, пока не получим то, что получим. Чаще всего, такой расход времени и памяти оказывается слишком большим\n",
    "\n",
    "Если в кратце, **бор** — подвешенное дерево с символами на ребрах, реализация структуры данных для хранения строк. Строки получаются прохождением из корня по рёбрам, записывая соответствующие им символы, до терминальной вершины. \n",
    "\n",
    "Реализация **алгоритма Укконена** на Python:"
   ]
  },
  {
   "cell_type": "code",
   "execution_count": 1,
   "metadata": {},
   "outputs": [
    {
     "name": "stdout",
     "output_type": "stream",
     "text": [
      "Root\n",
      "     ab\n",
      "         cab$\n",
      "         $\n",
      "     b\n",
      "         cab$\n",
      "         $\n",
      "     cab$\n",
      "     $\n"
     ]
    }
   ],
   "source": [
    "# Определение узла в суффиксном дереве\n",
    "class Node:\n",
    "    def __init__(self, start, end):\n",
    "        self.start = start  # Начало подстроки\n",
    "        self.end = end  # Конец подстроки\n",
    "        self.children = {}  # Дети узла в дереве\n",
    "\n",
    "\n",
    "class SuffixTree:\n",
    "    def __init__(self, s):\n",
    "        self.s = s  # Строка, для которой строится дерево\n",
    "        self.root = Node(-1, -1)  # Корневой узел дерева\n",
    "        self.build()  # Построение дерева\n",
    "\n",
    "    # Функция для построения суффиксного дерева\n",
    "    def build(self):\n",
    "        # Построение дерева для каждого суффикса строки\n",
    "        for i in range(len(self.s)):\n",
    "            self.add_suffix(i)\n",
    "\n",
    "    # Функция для добавления суффикса в дерево\n",
    "    def add_suffix(self, idx):\n",
    "        cur = self.root  # Текущий узел, начинаем с корня\n",
    "        i = idx  # Индекс в строке\n",
    "        while i < len(self.s):\n",
    "            # Если текущего символа нет среди детей, создаем новый узел\n",
    "            if self.s[i] not in cur.children:\n",
    "                cur.children[self.s[i]] = Node(i, len(self.s))\n",
    "                break\n",
    "            # Переходим по существующему ребру\n",
    "            child = cur.children[self.s[i]]\n",
    "            j = child.start\n",
    "            while j < child.end and self.s[i] == self.s[j]:\n",
    "                i += 1\n",
    "                j += 1\n",
    "            # Если дошли до конца ребра, переходим к следующему узлу\n",
    "            if j == child.end:\n",
    "                cur = child\n",
    "            else:\n",
    "                # Если суффикс не совпадает полностью, разбиваем ребро на два\n",
    "                middle = Node(child.start, j)\n",
    "                middle.children[self.s[j]] = Node(j, child.end)\n",
    "                middle.children[self.s[i]] = Node(i, len(self.s))\n",
    "                cur.children[self.s[child.start]] = middle\n",
    "                break\n",
    "\n",
    "    # Функция для вывода суффиксного дерева\n",
    "    def print_tree(self, node, indent=0):\n",
    "        if node.start == -1:\n",
    "            print(\"Root\")\n",
    "        else:\n",
    "            print(\" \" * indent, self.s[node.start:node.end])\n",
    "        # Рекурсивный вызов для каждого потомка текущего узла\n",
    "        for child in node.children.values():\n",
    "            self.print_tree(child, indent + 4)\n",
    "\n",
    "\n",
    "# Пример использования:\n",
    "s = \"abcab$\"  # Строка, для которой строится суффиксное дерево\n",
    "tree = SuffixTree(s)  # Создание экземпляра суффиксного дерева\n",
    "tree.print_tree(tree.root)  # Вывод построенного суффиксного дерева"
   ]
  },
  {
   "cell_type": "markdown",
   "metadata": {},
   "source": [
    "```\n",
    "Root\n",
    "    abcab$\n",
    "    bcab$\n",
    "    cab$\n",
    "    ab$\n",
    "    b$\n",
    "```"
   ]
  }
 ],
 "metadata": {
  "kernelspec": {
   "display_name": "Python 3",
   "language": "python",
   "name": "python3"
  },
  "language_info": {
   "codemirror_mode": {
    "name": "ipython",
    "version": 3
   },
   "file_extension": ".py",
   "mimetype": "text/x-python",
   "name": "python",
   "nbconvert_exporter": "python",
   "pygments_lexer": "ipython3",
   "version": "3.11.4"
  },
  "orig_nbformat": 4
 },
 "nbformat": 4,
 "nbformat_minor": 2
}
